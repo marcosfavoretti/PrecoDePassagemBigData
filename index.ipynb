{
 "cells": [
  {
   "cell_type": "code",
   "execution_count": 1,
   "metadata": {},
   "outputs": [],
   "source": [
    "from pyspark.sql import SparkSession\n",
    "from pyspark.sql.types import StructType, StructField, StringType, IntegerType, BooleanType, DoubleType, DateType, LongType\n",
    "from pyspark.sql.functions import percentile_approx,length, regexp_replace,datediff, avg, split, expr, col, month, size, when, desc, sum as spark_sum, abs, row_number, udf\n",
    "from pyspark.ml.feature import StringIndexer, OneHotEncoder, VectorAssembler, MinMaxScaler\n",
    "from pyspark.ml import Pipeline\n",
    "from pyspark.ml.regression import LinearRegression,DecisionTreeRegressor\n",
    "from pyspark.ml.evaluation import RegressionEvaluator\n",
    "from pyspark.sql.window import Window\n",
    "import re\n"
   ]
  },
  {
   "cell_type": "code",
   "execution_count": 2,
   "metadata": {},
   "outputs": [],
   "source": [
    "spark = SparkSession.builder \\\n",
    "    .appName(\"Ac2 BigData\") \\\n",
    "    .getOrCreate()\n"
   ]
  },
  {
   "cell_type": "code",
   "execution_count": 3,
   "metadata": {},
   "outputs": [],
   "source": [
    "\n",
    "schema = StructType([\n",
    "    StructField(\"legId\", StringType(), True),\n",
    "    StructField(\"searchDate\", DateType(), True),\n",
    "    StructField(\"flightDate\", DateType(), True),\n",
    "    StructField(\"startingAirport\", StringType(), True),\n",
    "    StructField(\"destinationAirport\", StringType(), True),\n",
    "    StructField(\"fareBasisCode\", StringType(), True),\n",
    "    StructField(\"travelDuration\", StringType(), True),\n",
    "    StructField(\"elapsedDays\", IntegerType(), True),\n",
    "    StructField(\"isBasicEconomy\", BooleanType(), True),\n",
    "    StructField(\"isRefundable\", BooleanType(), True),\n",
    "    StructField(\"isNonStop\", BooleanType(), True),\n",
    "    StructField(\"baseFare\", DoubleType(), True),\n",
    "    StructField(\"totalFare\", DoubleType(), True),\n",
    "    StructField(\"seatsRemaining\", IntegerType(), True),\n",
    "    StructField(\"totalTravelDistance\", DoubleType(), True),\n",
    "    StructField(\"segmentsDepartureTimeEpochSeconds\", StringType(), True),\n",
    "    StructField(\"segmentsDepartureTimeRaw\", StringType(), True),\n",
    "    StructField(\"segmentsArrivalTimeEpochSeconds\", StringType(), True),\n",
    "    StructField(\"segmentsArrivalTimeRaw\", StringType(), True),\n",
    "    StructField(\"segmentsArrivalAirportCode\", StringType(), True),\n",
    "    StructField(\"segmentsDepartureAirportCode\", StringType(), True),\n",
    "    StructField(\"segmentsAirlineName\", StringType(), True),\n",
    "    StructField(\"segmentsAirlineCode\", StringType(), True),\n",
    "    StructField(\"segmentsDistance\", StringType(), True),\n",
    "    StructField(\"segmentsEquipmentDescription\", StringType(), True),\n",
    "    StructField(\"segmentsDurationInSeconds\", StringType(), True)\n",
    "])\n"
   ]
  },
  {
   "cell_type": "code",
   "execution_count": 4,
   "metadata": {},
   "outputs": [
    {
     "name": "stdout",
     "output_type": "stream",
     "text": [
      "dataset loaded\n",
      "root\n",
      " |-- legId: string (nullable = true)\n",
      " |-- searchDate: date (nullable = true)\n",
      " |-- flightDate: date (nullable = true)\n",
      " |-- startingAirport: string (nullable = true)\n",
      " |-- destinationAirport: string (nullable = true)\n",
      " |-- fareBasisCode: string (nullable = true)\n",
      " |-- travelDuration: string (nullable = true)\n",
      " |-- elapsedDays: integer (nullable = true)\n",
      " |-- isBasicEconomy: boolean (nullable = true)\n",
      " |-- isRefundable: boolean (nullable = true)\n",
      " |-- isNonStop: boolean (nullable = true)\n",
      " |-- baseFare: double (nullable = true)\n",
      " |-- totalFare: double (nullable = true)\n",
      " |-- seatsRemaining: integer (nullable = true)\n",
      " |-- totalTravelDistance: double (nullable = true)\n",
      " |-- segmentsDepartureTimeEpochSeconds: string (nullable = true)\n",
      " |-- segmentsDepartureTimeRaw: string (nullable = true)\n",
      " |-- segmentsArrivalTimeEpochSeconds: string (nullable = true)\n",
      " |-- segmentsArrivalTimeRaw: string (nullable = true)\n",
      " |-- segmentsArrivalAirportCode: string (nullable = true)\n",
      " |-- segmentsDepartureAirportCode: string (nullable = true)\n",
      " |-- segmentsAirlineName: string (nullable = true)\n",
      " |-- segmentsAirlineCode: string (nullable = true)\n",
      " |-- segmentsDistance: string (nullable = true)\n",
      " |-- segmentsEquipmentDescription: string (nullable = true)\n",
      " |-- segmentsDurationInSeconds: string (nullable = true)\n",
      "\n"
     ]
    }
   ],
   "source": [
    "df = spark.read.csv('./dataset/itinerariesReduce.csv', header=True, schema=schema)\n",
    "\n",
    "print('dataset loaded')\n",
    "df.printSchema()\n",
    "\n"
   ]
  },
  {
   "cell_type": "code",
   "execution_count": 5,
   "metadata": {},
   "outputs": [],
   "source": [
    "df.createTempView('DATASET')"
   ]
  },
  {
   "cell_type": "code",
   "execution_count": 6,
   "metadata": {},
   "outputs": [],
   "source": [
    "# NA PRÓXIMA CELULA IREMOS TIRAR OS CAMPOS QUE SÃO IDs, O CAMPO 'isBasicEconomy', QUE FOI A FEATURE QUE FILTRAMOS PARA DIMINUIR O DATASET, E O BASEFARE QUE É A FEATURE QUE MOSTRA O PREÇO DA PASSAGEM SEM AS TAXAS ALEM DA DE COLUNAS QUE O VALORES SAO TODOS IGUAIS"
   ]
  },
  {
   "cell_type": "code",
   "execution_count": 7,
   "metadata": {},
   "outputs": [],
   "source": [
    "dfRemoveIdsColumns = spark.sql('''\n",
    "SELECT \n",
    "--legId,\n",
    "searchDate,\n",
    "flightDate,\n",
    "startingAirport,\n",
    "destinationAirport,\n",
    "fareBasisCode,\n",
    "travelDuration,\n",
    "elapsedDays,\n",
    "isNonStop,\n",
    "totalFare,\n",
    "seatsRemaining,\n",
    "totalTravelDistance,\n",
    "segmentsDepartureTimeEpochSeconds,\n",
    "segmentsDepartureTimeRaw,\n",
    "segmentsArrivalTimeEpochSeconds,\n",
    "segmentsArrivalTimeRaw,\n",
    "segmentsArrivalAirportCode,\n",
    "segmentsDepartureAirportCode,\n",
    "segmentsAirlineName,\n",
    "segmentsAirlineCode,\n",
    "segmentsEquipmentDescription,\n",
    "segmentsDurationInSeconds\n",
    "FROM DATASET\n",
    "''')"
   ]
  },
  {
   "cell_type": "code",
   "execution_count": 8,
   "metadata": {},
   "outputs": [],
   "source": [
    "dfRemoveIdsColumns.createOrReplaceTempView(\"DATASET\")\n",
    "# Criando a coluna splitSegments\n",
    "dfShowIntermediate = dfRemoveIdsColumns.withColumn(\n",
    "    \"splitSegments\",\n",
    "    split(col(\"segmentsDurationInSeconds\"), '\\\\|\\\\|')  \n",
    ")\n"
   ]
  },
  {
   "cell_type": "code",
   "execution_count": 9,
   "metadata": {},
   "outputs": [
    {
     "name": "stdout",
     "output_type": "stream",
     "text": [
      "+------------------+-----+-----+\n",
      "|             media| _min| _max|\n",
      "+------------------+-----+-----+\n",
      "|178.86721614121868|38.61|928.6|\n",
      "+------------------+-----+-----+\n",
      "\n"
     ]
    }
   ],
   "source": [
    "#analise de total fare\n",
    "\n",
    "analise = spark.sql('''\n",
    "    select avg(totalFare) as media, min(totalFare) as _min, max(totalFare) as _max from DATASET\n",
    "''').show()\n"
   ]
  },
  {
   "cell_type": "code",
   "execution_count": 10,
   "metadata": {},
   "outputs": [],
   "source": [
    "def duration_to_seconds(duration_str):\n",
    "    if not duration_str:\n",
    "        return None\n",
    "    pattern = re.compile(r'PT(?:(\\d+)H)?(?:(\\d+)M)?(?:(\\d+)S)?')\n",
    "    match = pattern.match(duration_str)\n",
    "    if not match:\n",
    "        return None\n",
    "    hours = int(match.group(1) or 0)\n",
    "    minutes = int(match.group(2) or 0)\n",
    "    seconds = int(match.group(3) or 0)\n",
    "    return hours * 3600 + minutes * 60 + seconds\n",
    "\n",
    "duration_to_seconds_udf = udf(duration_to_seconds, IntegerType())\n"
   ]
  },
  {
   "cell_type": "code",
   "execution_count": null,
   "metadata": {},
   "outputs": [
    {
     "name": "stdout",
     "output_type": "stream",
     "text": [
      "root\n",
      " |-- searchDate: date (nullable = true)\n",
      " |-- flightDate: date (nullable = true)\n",
      " |-- startingAirport: string (nullable = true)\n",
      " |-- destinationAirport: string (nullable = true)\n",
      " |-- fareBasisCode: string (nullable = true)\n",
      " |-- travelDuration: string (nullable = true)\n",
      " |-- elapsedDays: integer (nullable = true)\n",
      " |-- isNonStop: boolean (nullable = true)\n",
      " |-- totalFare: double (nullable = true)\n",
      " |-- seatsRemaining: integer (nullable = true)\n",
      " |-- totalTravelDistance: double (nullable = true)\n",
      " |-- segmentsDepartureTimeEpochSeconds: string (nullable = true)\n",
      " |-- segmentsDepartureTimeRaw: string (nullable = true)\n",
      " |-- segmentsArrivalTimeEpochSeconds: string (nullable = true)\n",
      " |-- segmentsArrivalTimeRaw: string (nullable = true)\n",
      " |-- segmentsArrivalAirportCode: string (nullable = true)\n",
      " |-- segmentsDepartureAirportCode: string (nullable = true)\n",
      " |-- segmentsAirlineName: string (nullable = true)\n",
      " |-- segmentsAirlineCode: string (nullable = true)\n",
      " |-- segmentsEquipmentDescription: string (nullable = true)\n",
      " |-- segmentsDurationInSeconds: string (nullable = true)\n",
      " |-- splitSegments: array (nullable = true)\n",
      " |    |-- element: string (containsNull = false)\n",
      " |-- travelDurationInSeconds: integer (nullable = true)\n",
      " |-- numConexao: integer (nullable = false)\n",
      " |-- mesVoo: integer (nullable = true)\n",
      " |-- mesCompra: integer (nullable = true)\n",
      " |-- diasAteViagem: integer (nullable = true)\n",
      "\n"
     ]
    }
   ],
   "source": [
    "#coluna contando o tempo total de viagem\n",
    "dfSegmentsDurationApply = dfShowIntermediate.withColumn(\n",
    "    \"travelDurationInSeconds\",\n",
    "    duration_to_seconds_udf(col(\"travelDuration\"))\n",
    ")\n",
    "\n",
    "#coluna contendo o numero de conexoes que o passageiro vai fazer\n",
    "dfNumConexaoApply = dfSegmentsDurationApply.withColumn(\n",
    "    \"numConexao\",\n",
    "    (size(\"splitSegments\") - 1)\n",
    ")\n",
    "\n",
    "#o mes que vai ser feito a viagem\n",
    "dfMonthTravelDurationApply = dfNumConexaoApply.withColumn(\n",
    "    \"mesVoo\",\n",
    "    month(\"flightDate\")\n",
    ")\n",
    "\n",
    "#o mes que foi comprado a passagem\n",
    "dfSearchTravelDurationApply = dfMonthTravelDurationApply.withColumn(\n",
    "    \"mesCompra\",\n",
    "    month(\"searchDate\")\n",
    ")\n",
    "\n",
    "#quantos dias antecipados ele comprou a viagem\n",
    "dfWithDaysDifference = dfSearchTravelDurationApply.withColumn(\n",
    "    \"diasAteViagem\",\n",
    "    datediff(\"flightDate\",\"searchDate\")\n",
    ")\n",
    "\n",
    "\n",
    "dfWithDaysDifference.createOrReplaceTempView('DATASET_FEATURE')\n",
    "dfWithDaysDifference.printSchema()"
   ]
  },
  {
   "cell_type": "code",
   "execution_count": null,
   "metadata": {},
   "outputs": [],
   "source": [
    "#one hot enconding de colunas categoricas e label enconding da coluna isNonStop\n",
    "\n",
    "starting_airport_counts = dfWithDaysDifference.groupBy(\"startingAirport\")\\\n",
    "    .count().withColumn(\"rank\", row_number().over(Window.orderBy(desc(\"count\"))))\n",
    "destination_airport_counts = dfWithDaysDifference.groupBy(\"destinationAirport\")\\\n",
    "    .count().withColumn(\"rank\", row_number().over(Window.orderBy(desc(\"count\"))))\n",
    "fare_basis_code_counts = dfWithDaysDifference.groupBy(\"fareBasisCode\")\\\n",
    "    .count().withColumn(\"rank\", row_number().over(Window.orderBy(desc(\"count\"))))\n",
    "\n",
    "top_starting_airports = starting_airport_counts.filter(col(\"rank\") <= 3).select(\"startingAirport\")\n",
    "top_destination_airports = destination_airport_counts.filter(col(\"rank\") <= 3).select(\"destinationAirport\")\n",
    "top_fare_basis_codes = fare_basis_code_counts.filter(col(\"rank\") <= 3).select(\"fareBasisCode\")\n",
    "\n",
    "dfOneHotEncoding = dfWithDaysDifference \\\n",
    "    .join(top_starting_airports, on=\"startingAirport\", how=\"left\") \\\n",
    "    .join(top_destination_airports, on=\"destinationAirport\", how=\"left\") \\\n",
    "    .join(top_fare_basis_codes, on=\"fareBasisCode\", how=\"left\")\n",
    "\n",
    "top_starting_list    = [row[0] for row in top_starting_airports.collect()]\n",
    "top_destination_list = [row[0] for row in top_destination_airports.collect()]\n",
    "top_fare_basis_list  = [row[0] for row in top_fare_basis_codes.collect()]\n",
    "\n",
    "for code in top_starting_list:\n",
    "    dfOneHotEncoding = dfOneHotEncoding.withColumn(\n",
    "        f\"startingAirport_{code}\",\n",
    "        when(col(\"startingAirport\") == code, 1).otherwise(0)\n",
    "    )\n",
    "dfOneHotEncoding = dfOneHotEncoding.withColumn(\n",
    "    \"startingAirport_outros\",\n",
    "    when(~col(\"startingAirport\").isin(top_starting_list), 1).otherwise(0)\n",
    ")\n",
    "\n",
    "for code in top_destination_list:\n",
    "    dfOneHotEncoding = dfOneHotEncoding.withColumn(\n",
    "        f\"destinationAirport_{code}\",\n",
    "        when(col(\"destinationAirport\") == code, 1).otherwise(0)\n",
    "    )\n",
    "dfOneHotEncoding = dfOneHotEncoding.withColumn(\n",
    "    \"destinationAirport_outros\",\n",
    "    when(~col(\"destinationAirport\").isin(top_destination_list), 1).otherwise(0)\n",
    ")\n",
    "\n",
    "for code in top_fare_basis_list:\n",
    "    dfOneHotEncoding = dfOneHotEncoding.withColumn(\n",
    "        f\"fareBasisCode_{code}\",\n",
    "        when(col(\"fareBasisCode\") == code, 1).otherwise(0)\n",
    "    )\n",
    "dfOneHotEncoding = dfOneHotEncoding.withColumn(\n",
    "    \"fareBasisCode_outros\",\n",
    "    when(~col(\"fareBasisCode\").isin(top_fare_basis_list), 1).otherwise(0)\n",
    ")\n",
    "\n",
    "\n",
    "dfOneHotEncoding = dfOneHotEncoding.withColumn(\n",
    "    \"segmentsAirlineCode_clean\", \n",
    "    split(col(\"segmentsAirlineCode\"), \"\\|\\|\").getItem(0)\n",
    ")\n",
    "\n",
    "segments_counts = dfOneHotEncoding.groupBy(\"segmentsAirlineCode_clean\")\\\n",
    "    .count().withColumn(\"rank\", row_number().over(Window.orderBy(desc(\"count\"))))\n",
    "top_segments = segments_counts.filter(col(\"rank\") <= 3).select(\"segmentsAirlineCode_clean\")\n",
    "top_segments_list = [row[0] for row in top_segments.collect()]\n",
    "\n",
    "for code in top_segments_list:\n",
    "    dfOneHotEncoding = dfOneHotEncoding.withColumn(\n",
    "        f\"segmentsAirlineCode_{code}\", \n",
    "        when(col(\"segmentsAirlineCode_clean\") == code, 1).otherwise(0)\n",
    "    )\n",
    "dfOneHotEncoding = dfOneHotEncoding.withColumn(\n",
    "    \"segmentsAirlineCode_outros\",\n",
    "    when(~col(\"segmentsAirlineCode_clean\").isin(top_segments_list), 1).otherwise(0)\n",
    ")\n",
    "\n",
    "dfOneHotEncoding = dfOneHotEncoding.withColumn(\"isNonStop\", col(\"isNonStop\").cast(\"int\"))\n",
    "\n"
   ]
  },
  {
   "cell_type": "code",
   "execution_count": 13,
   "metadata": {},
   "outputs": [],
   "source": [
    "\n",
    "dfOneHotEncoding.createOrReplaceTempView('DATASET_NEW_FEATURE')"
   ]
  },
  {
   "cell_type": "code",
   "execution_count": null,
   "metadata": {},
   "outputs": [],
   "source": [
    "dfPosFeaturesApply = spark.sql('''\n",
    "SELECT \n",
    "--searchDate,\n",
    "--flightDate,\n",
    "--startingAirport,\n",
    "--destinationAirport,\n",
    "--fareBasisCode,\n",
    "travelDurationInSeconds,\n",
    "--travelDuration,\n",
    "--elapsedDays, --mto desbalanceada\n",
    "isNonStop,\n",
    "totalFare,\n",
    "seatsRemaining,\n",
    "totalTravelDistance,\n",
    "--segmentsDepartureTimeEpochSeconds,\n",
    "--segmentsDepartureTimeRaw,\n",
    "--segmentsArrivalTimeEpochSeconds,\n",
    "--segmentsArrivalTimeRaw,\n",
    "--segmentsArrivalAirportCode,\n",
    "--segmentsDepartureAirportCode,\n",
    "--segmentsAirlineName,\n",
    "--segmentsAirlineCode,\n",
    "--segmentsEquipmentDescription,-\n",
    "--segmentsDurationInSeconds,\n",
    "numConexao,\n",
    "mesVoo,\n",
    "mesCompra,\n",
    "diasAteViagem,\n",
    "startingAirport_BOS,\n",
    "startingAirport_LGA,\n",
    "startingAirport_ORD,\n",
    "startingAirport_outros,\n",
    "destinationAirport_LGA,\n",
    "destinationAirport_LAX,\n",
    "destinationAirport_BOS,\n",
    "destinationAirport_outros,\n",
    "fareBasisCode_XAVQA0BQ,\n",
    "fareBasisCode_VAVNA0BC,\n",
    "fareBasisCode_XAVNA0BC,\n",
    "fareBasisCode_outros,\n",
    "segmentsAirlineCode_DL,\n",
    "segmentsAirlineCode_AA,\n",
    "segmentsAirlineCode_UA,\n",
    "segmentsAirlineCode_outros\n",
    "FROM DATASET_NEW_FEATURE\n",
    "''')\n",
    "\n",
    "\n",
    "dfPosFeaturesApply.createOrReplaceTempView('DATASET_NEW_FEATURES_APPLY')"
   ]
  },
  {
   "cell_type": "code",
   "execution_count": null,
   "metadata": {},
   "outputs": [
    {
     "name": "stdout",
     "output_type": "stream",
     "text": [
      "+-----------------------+---------+---------+--------------+-------------------+----------+------+---------+-------------+-------------------+-------------------+-------------------+----------------------+----------------------+----------------------+----------------------+-------------------------+----------------------+----------------------+----------------------+--------------------+----------------------+----------------------+----------------------+--------------------------+\n",
      "|travelDurationInSeconds|isNonStop|totalFare|seatsRemaining|totalTravelDistance|numConexao|mesVoo|mesCompra|diasAteViagem|startingAirport_BOS|startingAirport_LGA|startingAirport_ORD|startingAirport_outros|destinationAirport_LGA|destinationAirport_LAX|destinationAirport_BOS|destinationAirport_outros|fareBasisCode_XAVQA0BQ|fareBasisCode_VAVNA0BC|fareBasisCode_XAVNA0BC|fareBasisCode_outros|segmentsAirlineCode_DL|segmentsAirlineCode_AA|segmentsAirlineCode_UA|segmentsAirlineCode_outros|\n",
      "+-----------------------+---------+---------+--------------+-------------------+----------+------+---------+-------------+-------------------+-------------------+-------------------+----------------------+----------------------+----------------------+----------------------+-------------------------+----------------------+----------------------+----------------------+--------------------+----------------------+----------------------+----------------------+--------------------------+\n",
      "|                  35160|        0|    307.2|             9|              947.0|         1|     4|        4|            1|                  0|                  0|                  0|                     1|                     0|                     0|                     1|                        0|                     0|                     0|                     0|                   1|                     0|                     0|                     1|                         0|\n",
      "|                  39660|        0|    307.2|             9|              947.0|         1|     4|        4|            1|                  0|                  0|                  0|                     1|                     0|                     0|                     1|                        0|                     0|                     0|                     0|                   1|                     0|                     0|                     1|                         0|\n",
      "|                  40620|        0|    307.2|             9|              947.0|         1|     4|        4|            1|                  0|                  0|                  0|                     1|                     0|                     0|                     1|                        0|                     0|                     0|                     0|                   1|                     0|                     0|                     1|                         0|\n",
      "|                   8340|        1|    203.6|             9|              762.0|         0|     4|        4|            1|                  0|                  0|                  0|                     1|                     0|                     0|                     0|                        1|                     0|                     0|                     0|                   1|                     0|                     0|                     1|                         0|\n",
      "|                   8880|        1|    203.6|             9|              762.0|         0|     4|        4|            1|                  0|                  0|                  0|                     1|                     0|                     0|                     0|                        1|                     0|                     0|                     0|                   1|                     0|                     0|                     1|                         0|\n",
      "|                  21720|        0|    212.6|             6|             1320.0|         1|     4|        4|            1|                  0|                  0|                  0|                     1|                     0|                     0|                     0|                        1|                     0|                     0|                     0|                   1|                     0|                     0|                     1|                         0|\n",
      "|                  42000|        0|    370.2|             9|             1482.0|         1|     4|        4|            1|                  0|                  0|                  0|                     1|                     0|                     0|                     0|                        1|                     0|                     0|                     0|                   1|                     0|                     0|                     1|                         0|\n",
      "|                  38280|        0|    307.6|             7|             2857.0|         1|     4|        4|            1|                  0|                  0|                  0|                     1|                     0|                     0|                     0|                        1|                     0|                     0|                     0|                   1|                     0|                     0|                     0|                         1|\n",
      "|                  32220|        0|    387.6|             7|             2857.0|         1|     4|        4|            1|                  0|                  0|                  0|                     1|                     0|                     0|                     0|                        1|                     0|                     0|                     0|                   1|                     0|                     0|                     0|                         1|\n",
      "|                  32220|        0|    311.6|             9|             2674.0|         1|     4|        4|            1|                  1|                  0|                  0|                     0|                     0|                     1|                     0|                        0|                     0|                     0|                     0|                   1|                     1|                     0|                     0|                         0|\n",
      "|                  33000|        0|    311.6|             9|             2674.0|         1|     4|        4|            1|                  1|                  0|                  0|                     0|                     0|                     1|                     0|                        0|                     0|                     0|                     0|                   1|                     1|                     0|                     0|                         0|\n",
      "|                   8160|        1|     97.1|             9|              728.0|         0|     4|        4|            1|                  0|                  0|                  0|                     1|                     0|                     0|                     1|                        0|                     0|                     0|                     0|                   1|                     1|                     0|                     0|                         0|\n",
      "|                   8580|        1|     97.1|             9|              728.0|         0|     4|        4|            1|                  0|                  0|                  0|                     1|                     0|                     0|                     1|                        0|                     0|                     0|                     0|                   1|                     1|                     0|                     0|                         0|\n",
      "|                   8940|        1|     97.1|             9|              728.0|         0|     4|        4|            1|                  0|                  0|                  0|                     1|                     0|                     0|                     1|                        0|                     0|                     0|                     0|                   1|                     1|                     0|                     0|                         0|\n",
      "|                  21180|        0|    106.1|             9|             1175.0|         1|     4|        4|            1|                  0|                  0|                  0|                     1|                     0|                     0|                     1|                        0|                     0|                     0|                     0|                   1|                     1|                     0|                     0|                         0|\n",
      "|                  19140|        0|    211.6|             9|             1547.0|         1|     4|        4|            1|                  0|                  0|                  0|                     1|                     0|                     0|                     0|                        1|                     0|                     0|                     0|                   1|                     1|                     0|                     0|                         0|\n",
      "|                  20460|        0|    211.6|             9|             1372.0|         1|     4|        4|            1|                  0|                  0|                  0|                     1|                     0|                     0|                     0|                        1|                     0|                     0|                     0|                   1|                     1|                     0|                     0|                         0|\n",
      "|                  21000|        0|    211.6|             9|             1932.0|         1|     4|        4|            1|                  0|                  0|                  0|                     1|                     0|                     0|                     0|                        1|                     0|                     0|                     0|                   1|                     1|                     0|                     0|                         0|\n",
      "|                  25920|        0|    211.6|             9|             1372.0|         1|     4|        4|            1|                  0|                  0|                  0|                     1|                     0|                     0|                     0|                        1|                     0|                     0|                     0|                   1|                     1|                     0|                     0|                         0|\n",
      "|                  27600|        0|    211.6|             9|             1932.0|         1|     4|        4|            1|                  0|                  0|                  0|                     1|                     0|                     0|                     0|                        1|                     0|                     0|                     0|                   1|                     1|                     0|                     0|                         0|\n",
      "+-----------------------+---------+---------+--------------+-------------------+----------+------+---------+-------------+-------------------+-------------------+-------------------+----------------------+----------------------+----------------------+----------------------+-------------------------+----------------------+----------------------+----------------------+--------------------+----------------------+----------------------+----------------------+--------------------------+\n",
      "only showing top 20 rows\n",
      "\n"
     ]
    }
   ],
   "source": [
    "#como nao tratei ainad os outliers irei substituir os valores nulos pela mediana da coluna\n",
    "\n",
    "numeric_columns = [c for c, dtype in dfPosFeaturesApply.dtypes if dtype in ('int', 'double', 'float', 'long')]\n",
    "\n",
    "medians = {}\n",
    "\n",
    "for col_name in numeric_columns:\n",
    "    median = dfPosFeaturesApply.approxQuantile(col_name, [0.5], 0.01)[0]\n",
    "    medians[col_name] = median\n",
    "\n",
    "df_cleaned = dfPosFeaturesApply.fillna(medians)\n",
    "\n",
    "df_cleaned.show()"
   ]
  },
  {
   "cell_type": "code",
   "execution_count": null,
   "metadata": {},
   "outputs": [
    {
     "name": "stdout",
     "output_type": "stream",
     "text": [
      "iqr aplicado na coluna travelDurationInSeconds\n",
      "iqr aplicado na coluna isNonStop\n",
      "iqr aplicado na coluna seatsRemaining\n",
      "iqr aplicado na coluna totalTravelDistance\n",
      "iqr aplicado na coluna numConexao\n",
      "iqr aplicado na coluna mesVoo\n",
      "iqr aplicado na coluna mesCompra\n",
      "iqr aplicado na coluna diasAteViagem\n"
     ]
    }
   ],
   "source": [
    "#trato outliers usando a tecnica de capping\n",
    "\n",
    "target_col = 'totalFare'\n",
    "feature_columns = df_cleaned.columns\n",
    "toRemove = [\n",
    "    target_col,\n",
    "    'startingAirport_BOS',\n",
    "    'startingAirport_LGA',\n",
    "    'startingAirport_ORD',\n",
    "    'startingAirport_outros',\n",
    "    'destinationAirport_LGA',\n",
    "    'destinationAirport_LAX',\n",
    "    'destinationAirport_BOS',\n",
    "    'destinationAirport_outros',\n",
    "    'fareBasisCode_XAVQA0BQ',\n",
    "    'fareBasisCode_VAVNA0BC',\n",
    "    'fareBasisCode_XAVNA0BC',\n",
    "    'fareBasisCode_outros',\n",
    "    'segmentsAirlineCode_DL',\n",
    "    'segmentsAirlineCode_AA',\n",
    "    'segmentsAirlineCode_UA',\n",
    "    'segmentsAirlineCode_outros',\n",
    "]#nao irei usar as colunas que ja fiz hotencoding ou labelencoding\n",
    "for col_name_to_remove  in toRemove:\n",
    "    if col_name_to_remove in feature_columns:\n",
    "        feature_columns.remove(col_name_to_remove )\n",
    "        \n",
    "transformed_columns = []\n",
    "\n",
    "for col_name in feature_columns:\n",
    "    print('iqr aplicado na coluna',col_name)\n",
    "    q1, q3 = df_cleaned.approxQuantile(col_name, [0.25, 0.75], 0.001)\n",
    "    iqr = q3 - q1\n",
    "    lower_bound = q1 - 1.5 * iqr\n",
    "    upper_bound = q3 + 1.5 * iqr\n",
    "\n",
    "    capped_col = when(col(col_name) < lower_bound, lower_bound) \\\n",
    "        .otherwise(when(col(col_name) > upper_bound, upper_bound)\n",
    "        .otherwise(col(col_name))) \\\n",
    "        .alias(col_name)\n",
    "\n",
    "    transformed_columns.append(capped_col)\n",
    "\n",
    "\n",
    "for col_name_to_remove  in toRemove:\n",
    "    transformed_columns.append(col(col_name_to_remove))\n",
    "\n",
    "df_cleaned_no_outliers = df_cleaned.select(*transformed_columns)\n",
    "\n",
    "df_cleaned_no_outliers.createOrReplaceTempView('DATASET_NO_OUTLIERS')"
   ]
  },
  {
   "cell_type": "code",
   "execution_count": null,
   "metadata": {},
   "outputs": [
    {
     "name": "stdout",
     "output_type": "stream",
     "text": [
      "travelDurationInSeconds 0.5705771871427221\n",
      "isNonStop -0.34015940747271106\n",
      "seatsRemaining 0.002507499209874932\n",
      "totalTravelDistance 0.5473811435429348\n",
      "numConexao 0.3761745260013003\n",
      "mesVoo -0.02051716346918684\n",
      "mesCompra 0.02302979982845782\n",
      "diasAteViagem -0.11273417522564888\n",
      "totalFare 1.0\n",
      "startingAirport_BOS -0.0975652905679468\n",
      "startingAirport_LGA -0.06213087300304373\n",
      "startingAirport_ORD -0.07915367583869147\n",
      "startingAirport_outros 0.155027887352178\n",
      "destinationAirport_LGA -0.07515735271203196\n",
      "destinationAirport_LAX 0.11388781932073541\n",
      "destinationAirport_BOS -0.07985117272499727\n",
      "destinationAirport_outros 0.027487818809271116\n",
      "fareBasisCode_XAVQA0BQ 0.03413214480455624\n",
      "fareBasisCode_VAVNA0BC -0.06718081088507068\n",
      "fareBasisCode_XAVNA0BC 0.0006388616784803636\n",
      "fareBasisCode_outros 0.017846107756821612\n",
      "segmentsAirlineCode_DL 0.09123183925911629\n",
      "segmentsAirlineCode_AA -0.08509317429761012\n",
      "segmentsAirlineCode_UA -0.08194380490376088\n",
      "segmentsAirlineCode_outros 0.15078238628285745\n",
      "+--------------------------+--------------------------+\n",
      "|feature                   |correlation_with_totalFare|\n",
      "+--------------------------+--------------------------+\n",
      "|totalFare                 |1.0                       |\n",
      "|travelDurationInSeconds   |0.5705771871427221        |\n",
      "|totalTravelDistance       |0.5473811435429348        |\n",
      "|numConexao                |0.3761745260013003        |\n",
      "|startingAirport_outros    |0.155027887352178         |\n",
      "|segmentsAirlineCode_outros|0.15078238628285745       |\n",
      "|destinationAirport_LAX    |0.11388781932073541       |\n",
      "|segmentsAirlineCode_DL    |0.09123183925911629       |\n",
      "|fareBasisCode_XAVQA0BQ    |0.03413214480455624       |\n",
      "|destinationAirport_outros |0.027487818809271116      |\n",
      "|mesCompra                 |0.02302979982845782       |\n",
      "|fareBasisCode_outros      |0.017846107756821612      |\n",
      "|seatsRemaining            |0.002507499209874932      |\n",
      "|fareBasisCode_XAVNA0BC    |6.388616784803636E-4      |\n",
      "|mesVoo                    |-0.02051716346918684      |\n",
      "|startingAirport_LGA       |-0.06213087300304373      |\n",
      "|fareBasisCode_VAVNA0BC    |-0.06718081088507068      |\n",
      "|destinationAirport_LGA    |-0.07515735271203196      |\n",
      "|startingAirport_ORD       |-0.07915367583869147      |\n",
      "|destinationAirport_BOS    |-0.07985117272499727      |\n",
      "+--------------------------+--------------------------+\n",
      "only showing top 20 rows\n",
      "\n"
     ]
    }
   ],
   "source": [
    "#vejo as correlações com minha coluna alvo \n",
    "\n",
    "correlacoes = []\n",
    "for col in df_cleaned_no_outliers.columns:\n",
    "    corr = df_cleaned_no_outliers.stat.corr(col, target_col)\n",
    "    correlacoes.append((col, corr))\n",
    "    print(col, corr)\n",
    "\n",
    "schema = StructType([\n",
    "    StructField(\"feature\", StringType(), True),\n",
    "    StructField(\"correlation_with_totalFare\", DoubleType(), True)\n",
    "])\n",
    "\n",
    "correlation_df = spark.createDataFrame(correlacoes, schema)\n",
    "correlation_df.orderBy(\"correlation_with_totalFare\", ascending=False).show(truncate=False)"
   ]
  },
  {
   "cell_type": "code",
   "execution_count": null,
   "metadata": {},
   "outputs": [
    {
     "name": "stdout",
     "output_type": "stream",
     "text": [
      "['travelDurationInSeconds', 'totalTravelDistance', 'numConexao', 'isNonStop', 'startingAirport_outros', 'segmentsAirlineCode_outros', 'destinationAirport_LAX', 'diasAteViagem']\n"
     ]
    }
   ],
   "source": [
    "#por tentativa e erro cheguei que a melhor quantidade de features para a melhor acuracia do modelo é 8, logo seleciono as top 8 colunas com mais correlação\n",
    "top_n = 8\n",
    "\n",
    "melhores_features_df = correlation_df.filter(correlation_df.feature != \"totalFare\") \\\n",
    "    .withColumn(\"abs_corr\", abs(correlation_df[\"correlation_with_totalFare\"])) \\\n",
    "    .orderBy(\"abs_corr\", ascending=False) \\\n",
    "    .limit(top_n)\n",
    "\n",
    "melhores_features = [row[\"feature\"] for row in melhores_features_df.collect()]\n",
    "print(melhores_features)"
   ]
  },
  {
   "cell_type": "code",
   "execution_count": 20,
   "metadata": {},
   "outputs": [
    {
     "data": {
      "text/plain": [
       "11825266"
      ]
     },
     "execution_count": 20,
     "metadata": {},
     "output_type": "execute_result"
    }
   ],
   "source": [
    "dfFinal = spark.sql(f'''\n",
    "    select {\", \".join(melhores_features)}, totalFare from DATASET_NO_OUTLIERS\n",
    "''')\n",
    "dfFinal.count()"
   ]
  },
  {
   "cell_type": "code",
   "execution_count": null,
   "metadata": {},
   "outputs": [
    {
     "name": "stdout",
     "output_type": "stream",
     "text": [
      "df antes da remocao 11825266\n",
      "df pos remocao 5817853\n",
      "dados duplicados removidos 6007413\n"
     ]
    }
   ],
   "source": [
    "#removo linhas duplicadas no meu dataset \n",
    "\n",
    "dfFinalNoDuplicados = dfFinal.dropDuplicates()\n",
    "print('df antes da remocao',dfFinal.count())\n",
    "print('df pos remocao',dfFinalNoDuplicados.count())\n",
    "print('dados duplicados removidos',dfFinal.count() -  dfFinalNoDuplicados.count() )"
   ]
  },
  {
   "cell_type": "code",
   "execution_count": null,
   "metadata": {},
   "outputs": [],
   "source": [
    "#faço a normalizacao dos meus dados\n",
    "\n",
    "feature_columns = dfFinalNoDuplicados.columns\n",
    "feature_columns.remove(target_col)\n",
    "\n",
    "assembler = VectorAssembler(inputCols=feature_columns, outputCol=\"features\")\n",
    "df_vector = assembler.transform(dfFinalNoDuplicados)\n",
    "\n",
    "scaler = MinMaxScaler(inputCol=\"features\", outputCol=\"scaled_features\")\n",
    "scaler_model = scaler.fit(df_vector)\n",
    "df_scaled = scaler_model.transform(df_vector)"
   ]
  },
  {
   "cell_type": "code",
   "execution_count": 23,
   "metadata": {},
   "outputs": [],
   "source": [
    "df_final = df_scaled.selectExpr(\"totalFare as label\", \"scaled_features as features\")\n",
    "\n"
   ]
  },
  {
   "cell_type": "code",
   "execution_count": null,
   "metadata": {},
   "outputs": [
    {
     "name": "stdout",
     "output_type": "stream",
     "text": [
      "quantidade para treino 4655714\n",
      "quantidade para teste 1162139\n"
     ]
    }
   ],
   "source": [
    "#split do dataset entre treino e teste\n",
    "\n",
    "train_data, test_data = df_final.randomSplit([0.8, 0.2], seed=42)\n",
    "print('quantidade para treino',train_data.count(),)\n",
    "print('quantidade para teste', test_data.count())"
   ]
  },
  {
   "cell_type": "code",
   "execution_count": null,
   "metadata": {},
   "outputs": [],
   "source": [
    "#treinamento do modelo 1\n",
    "lr = LinearRegression(featuresCol=\"features\", labelCol=\"label\")\n",
    "lr_model = lr.fit(train_data)\n",
    "lr_predictions = lr_model.transform(test_data)"
   ]
  },
  {
   "cell_type": "code",
   "execution_count": null,
   "metadata": {},
   "outputs": [],
   "source": [
    "#treinamento do modelo 2\n",
    "\n",
    "dt = DecisionTreeRegressor(featuresCol=\"features\", labelCol=\"label\")\n",
    "dt_model = dt.fit(train_data)\n",
    "dt_predictions = dt_model.transform(test_data)"
   ]
  },
  {
   "cell_type": "code",
   "execution_count": null,
   "metadata": {},
   "outputs": [
    {
     "name": "stdout",
     "output_type": "stream",
     "text": [
      "Linear Regression RMSE: 59.58187450227922\n",
      "Decision Tree RMSE: 57.52245515543787\n"
     ]
    }
   ],
   "source": [
    "#resultado do RMSE \n",
    "\n",
    "evaluator = RegressionEvaluator(labelCol=\"label\", predictionCol=\"prediction\", metricName=\"rmse\")\n",
    "\n",
    "print(\"Linear Regression RMSE:\", evaluator.evaluate(lr_predictions))\n",
    "print(\"Decision Tree RMSE:\", evaluator.evaluate(dt_predictions))"
   ]
  },
  {
   "cell_type": "code",
   "execution_count": null,
   "metadata": {},
   "outputs": [
    {
     "name": "stdout",
     "output_type": "stream",
     "text": [
      "Linear Regression R²: 0.33269191775381246\n",
      "Decision Tree R²: 0.3780250576827525\n"
     ]
    }
   ],
   "source": [
    "#resultado do R^2 \n",
    "\n",
    "evaluator_r2 = RegressionEvaluator(labelCol=\"label\", predictionCol=\"prediction\", metricName=\"r2\")\n",
    "print(\"Linear Regression R²:\", evaluator_r2.evaluate(lr_predictions))\n",
    "print(\"Decision Tree R²:\", evaluator_r2.evaluate(dt_predictions))"
   ]
  },
  {
   "cell_type": "code",
   "execution_count": null,
   "metadata": {},
   "outputs": [
    {
     "name": "stdout",
     "output_type": "stream",
     "text": [
      "Linear Regression MAE: 46.24391752583568\n",
      "Decision Tree MAE: 44.469013028981145\n"
     ]
    }
   ],
   "source": [
    "#resultado do MAE\n",
    "\n",
    "evaluator_mae = RegressionEvaluator(\n",
    "    labelCol=\"label\", predictionCol=\"prediction\", metricName=\"mae\"\n",
    ")\n",
    "print(\"Linear Regression MAE:\", evaluator_mae.evaluate(lr_predictions))\n",
    "print(\"Decision Tree MAE:\", evaluator_mae.evaluate(dt_predictions))"
   ]
  },
  {
   "cell_type": "code",
   "execution_count": null,
   "metadata": {},
   "outputs": [],
   "source": []
  }
 ],
 "metadata": {
  "kernelspec": {
   "display_name": "Python 3 (ipykernel)",
   "language": "python",
   "name": "python3"
  },
  "language_info": {
   "codemirror_mode": {
    "name": "ipython",
    "version": 3
   },
   "file_extension": ".py",
   "mimetype": "text/x-python",
   "name": "python",
   "nbconvert_exporter": "python",
   "pygments_lexer": "ipython3",
   "version": "3.11.6"
  }
 },
 "nbformat": 4,
 "nbformat_minor": 4
}
