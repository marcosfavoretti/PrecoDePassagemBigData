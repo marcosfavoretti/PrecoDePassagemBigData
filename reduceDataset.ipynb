{
 "cells": [
  {
   "cell_type": "code",
   "execution_count": 1,
   "id": "0673ce13-131b-43ea-b8fa-4fc27d2e3eba",
   "metadata": {},
   "outputs": [],
   "source": [
    "from pyspark.sql import SparkSession\n"
   ]
  },
  {
   "cell_type": "code",
   "execution_count": 2,
   "id": "8774fa00-aa92-49eb-813e-e92822caa8ae",
   "metadata": {},
   "outputs": [],
   "source": [
    "spark = SparkSession.builder \\\n",
    "    .appName(\"Ac2 BigData Reduce\") \\\n",
    "    .getOrCreate()"
   ]
  },
  {
   "cell_type": "code",
   "execution_count": 11,
   "id": "59e8fc3c-c9db-43ee-b693-a61ac47c99bc",
   "metadata": {},
   "outputs": [
    {
     "name": "stdout",
     "output_type": "stream",
     "text": [
      "dataset loaded\n"
     ]
    }
   ],
   "source": [
    "df = spark.read.csv('./dataset/reduce', inferSchema=True)\n",
    "print('dataset loaded')"
   ]
  },
  {
   "cell_type": "code",
   "execution_count": 14,
   "id": "1d65a36e-113c-40c8-85e1-4a7ac8c6b46d",
   "metadata": {},
   "outputs": [
    {
     "name": "stdout",
     "output_type": "stream",
     "text": [
      "root\n",
      " |-- _c0: string (nullable = true)\n",
      " |-- _c1: date (nullable = true)\n",
      " |-- _c2: date (nullable = true)\n",
      " |-- _c3: string (nullable = true)\n",
      " |-- _c4: string (nullable = true)\n",
      " |-- _c5: string (nullable = true)\n",
      " |-- _c6: string (nullable = true)\n",
      " |-- _c7: integer (nullable = true)\n",
      " |-- _c8: boolean (nullable = true)\n",
      " |-- _c9: boolean (nullable = true)\n",
      " |-- _c10: boolean (nullable = true)\n",
      " |-- _c11: double (nullable = true)\n",
      " |-- _c12: double (nullable = true)\n",
      " |-- _c13: integer (nullable = true)\n",
      " |-- _c14: integer (nullable = true)\n",
      " |-- _c15: string (nullable = true)\n",
      " |-- _c16: string (nullable = true)\n",
      " |-- _c17: string (nullable = true)\n",
      " |-- _c18: string (nullable = true)\n",
      " |-- _c19: string (nullable = true)\n",
      " |-- _c20: string (nullable = true)\n",
      " |-- _c21: string (nullable = true)\n",
      " |-- _c22: string (nullable = true)\n",
      " |-- _c23: string (nullable = true)\n",
      " |-- _c24: string (nullable = true)\n",
      " |-- _c25: string (nullable = true)\n",
      " |-- _c26: string (nullable = true)\n",
      "\n",
      "+--------+\n",
      "|count(1)|\n",
      "+--------+\n",
      "| 3569724|\n",
      "+--------+\n",
      "\n"
     ]
    }
   ],
   "source": [
    "df.createOrReplaceTempView('TEMP_DATASET')\n",
    "df.printSchema()\n",
    "res = spark.sql('''\n",
    "    select count(*) from TEMP_DATASET where  = true\n",
    "''').show()\n"
   ]
  },
  {
   "cell_type": "code",
   "execution_count": 9,
   "id": "683f652f-400e-4fab-85fb-d400b49cea51",
   "metadata": {},
   "outputs": [
    {
     "name": "stdout",
     "output_type": "stream",
     "text": [
      "+--------------------+----------+----------+---------------+------------------+-------------+--------------+-----------+--------------+------------+---------+--------+---------+--------------+-------------------+---------------------------------+------------------------+-------------------------------+----------------------+--------------------------+----------------------------+--------------------+-------------------+----------------------------+-------------------------+----------------+-----------------+\n",
      "|               legId|searchDate|flightDate|startingAirport|destinationAirport|fareBasisCode|travelDuration|elapsedDays|isBasicEconomy|isRefundable|isNonStop|baseFare|totalFare|seatsRemaining|totalTravelDistance|segmentsDepartureTimeEpochSeconds|segmentsDepartureTimeRaw|segmentsArrivalTimeEpochSeconds|segmentsArrivalTimeRaw|segmentsArrivalAirportCode|segmentsDepartureAirportCode| segmentsAirlineName|segmentsAirlineCode|segmentsEquipmentDescription|segmentsDurationInSeconds|segmentsDistance|segmentsCabinCode|\n",
      "+--------------------+----------+----------+---------------+------------------+-------------+--------------+-----------+--------------+------------+---------+--------+---------+--------------+-------------------+---------------------------------+------------------------+-------------------------------+----------------------+--------------------------+----------------------------+--------------------+-------------------+----------------------------+-------------------------+----------------+-----------------+\n",
      "|a6a69aee2e8f75f9b...|2022-04-16|2022-04-17|            ATL|               BOS|     WAA0AHBN|       PT9H46M|          1|          true|       false|    false|   258.6|    307.2|             9|                947|             1650244980||16502...|    2022-04-17T21:23:...|           1650253320||16502...|  2022-04-17T23:42:...|                  EWR||BOS|                    ATL||EWR|      United||United|             UA||UA|        Airbus A319||Airb...|               8340||4140|        762||185|     coach||coach|\n",
      "|fcf84a2b44a9fe185...|2022-04-16|2022-04-17|            ATL|               BOS|     WAA0AHBN|       PT11H1M|          1|          true|       false|    false|   258.6|    307.2|             9|                947|             1650244980||16502...|    2022-04-17T21:23:...|           1650253320||16502...|  2022-04-17T23:42:...|                  EWR||BOS|                    ATL||EWR|      United||United|             UA||UA|        Airbus A319||Airb...|               8340||4140|        762||185|     coach||coach|\n",
      "|178742e9c46c96271...|2022-04-16|2022-04-17|            ATL|               BOS|     WAA0AHBN|      PT11H17M|          1|          true|       false|    false|   258.6|    307.2|             9|                947|             1650239520||16502...|    2022-04-17T19:52:...|           1650248400||16502...|  2022-04-17T22:20:...|                  EWR||BOS|                    ATL||EWR|      United||United|             UA||UA|        Embraer 170||Airb...|               8880||4140|        762||185|     coach||coach|\n",
      "|9cf3437467baef97d...|2022-04-16|2022-04-17|            ATL|               EWR|     WAA0AHBN|       PT2H19M|          0|          true|       false|     true|  175.81|    203.6|             9|                762|                       1650244980|    2022-04-17T21:23:...|                     1650253320|  2022-04-17T23:42:...|                       EWR|                         ATL|              United|                 UA|                 Airbus A319|                     8340|             762|            coach|\n",
      "|19f384ebb4b1d2589...|2022-04-16|2022-04-17|            ATL|               EWR|     WAA0AHBN|       PT2H28M|          0|          true|       false|     true|  175.81|    203.6|             9|                762|                       1650239520|    2022-04-17T19:52:...|                     1650248400|  2022-04-17T22:20:...|                       EWR|                         ATL|              United|                 UA|                 Embraer 170|                     8880|             762|            coach|\n",
      "|c357349d30bee266c...|2022-04-16|2022-04-17|            ATL|               EWR|     WAA0AHBN|        PT6H2M|          0|          true|       false|    false|  175.81|    212.6|             6|               1320|             1650190200||16502...|    2022-04-17T06:10:...|           1650198000||16502...|  2022-04-17T07:20:...|                  ORD||EWR|                    ATL||ORD|      United||United|             UA||UA|        Embraer 175 (Enha...|               7800||7740|        600||720|     coach||coach|\n",
      "|968586b1ec0c588bc...|2022-04-16|2022-04-17|            ATL|               ORD|     WAA0AHBN|      PT11H40M|          1|          true|       false|    false|  317.21|    370.2|             9|               1482|             1650244980||16502...|    2022-04-17T21:23:...|           1650253320||16502...|  2022-04-17T23:42:...|                  EWR||ORD|                    ATL||EWR|      United||United|             UA||UA|        Airbus A319||Boei...|               8340||9180|        762||720|     coach||coach|\n",
      "|f4c23f90ffa7dc909...|2022-04-16|2022-04-17|            ATL|               SFO|     NH0OAJBN|      PT10H38M|          0|          true|       false|    false|  264.19|    307.6|             7|               2857|             1650225900||16502...|    2022-04-17T16:05:...|           1650246540||16502...|  2022-04-17T18:49:...|                  SEA||SFO|                    ATL||SEA|Alaska Airlines||...|             AS||AS|        Boeing 737-900||A...|              20640||7680|       2178||679|     coach||coach|\n",
      "|03b12c944a057ced2...|2022-04-16|2022-04-17|            ATL|               SFO|     VH0OAJBN|       PT8H57M|          0|          true|       false|    false|   338.6|    387.6|             7|               2857|             1650225900||16502...|    2022-04-17T16:05:...|           1650246540||16502...|  2022-04-17T18:49:...|                  SEA||SFO|                    ATL||SEA|Alaska Airlines||...|             AS||AS|        Boeing 737-900||B...|              20640||7620|       2178||679|     coach||coach|\n",
      "|d0e4131db8cd6c416...|2022-04-16|2022-04-17|            BOS|               LAX|     LA0NA0BC|       PT8H57M|          0|          true|       false|    false|  267.91|    311.6|             9|               2674|             1650231900||16502...|    2022-04-17T17:45:...|           1650251820||16502...|  2022-04-17T21:17:...|                  SLC||ONT|                    BOS||SLC|        Delta||Delta|             DL||DL|        Boeing 737-800||B...|              19920||6180|       2100||574|     coach||coach|\n",
      "|e7277d288a4182569...|2022-04-16|2022-04-17|            BOS|               LAX|     LA0NA0BC|       PT9H10M|          0|          true|       false|    false|  267.91|    311.6|             9|               2674|             1650189900||16502...|    2022-04-17T06:05:...|           1650209700||16502...|  2022-04-17T09:35:...|                  SLC||ONT|                    BOS||SLC|        Delta||Delta|             DL||DL|        Boeing 737-900||B...|              19800||6300|       2100||574|     coach||coach|\n",
      "|0df71eda3d203a310...|2022-04-16|2022-04-17|            CLT|               BOS|     TA0NA0BC|       PT2H16M|          0|          true|       false|     true|   78.14|     97.1|             9|                728|                       1650193800|    2022-04-17T07:10:...|                     1650201960|  2022-04-17T09:26:...|                       BOS|                         CLT|               Delta|                 DL|                 Embraer 175|                     8160|             728|            coach|\n",
      "|5608f68236fae9b4a...|2022-04-16|2022-04-17|            CLT|               BOS|     TA0NA0BC|       PT2H23M|          0|          true|       false|     true|   78.14|     97.1|             9|                728|                       1650208200|    2022-04-17T11:10:...|                     1650216780|  2022-04-17T13:33:...|                       BOS|                         CLT|               Delta|                 DL|                 Embraer 175|                     8580|             728|            coach|\n",
      "|930ba9c016f5cab30...|2022-04-16|2022-04-17|            CLT|               BOS|     TA0NA0BC|       PT2H29M|          0|          true|       false|     true|   78.14|     97.1|             9|                728|                       1650231300|    2022-04-17T17:35:...|                     1650240240|  2022-04-17T20:04:...|                       BOS|                         CLT|               Delta|                 DL|                 Embraer 175|                     8940|             728|            coach|\n",
      "|440c9d6fc903c0023...|2022-04-16|2022-04-17|            CLT|               BOS|     TA0NA0BC|       PT5H53M|          0|          true|       false|    false|   78.14|    106.1|             9|               1175|             1650214500||16502...|    2022-04-17T12:55:...|           1650219240||16502...|  2022-04-17T14:14:...|                  ATL||BOS|                    CLT||ATL|        Delta||Delta|             DL||DL|                Boeing 717|||               4740||9480|        228||947|     coach||coach|\n",
      "|5d73c0530b5af2faa...|2022-04-16|2022-04-17|            DEN|               DFW|     UA0NA0BC|       PT5H19M|          0|          true|       false|    false|  174.88|    211.6|             9|               1547|             1650207600||16502...|    2022-04-17T09:00:...|           1650214200||16502...|  2022-04-17T11:50:...|                  MSP||DFW|                    DEN||MSP|        Delta||Delta|             DL||DL|               Airbus A321|||               6600||8940|        693||854|     coach||coach|\n",
      "|f79e2714364ac11c1...|2022-04-16|2022-04-17|            DEN|               DFW|     UA0NA0BC|       PT5H41M|          0|          true|       false|    false|  174.88|    211.6|             9|               1372|             1650195000||16502...|    2022-04-17T05:30:...|           1650201120||16502...|  2022-04-17T07:12:...|                  SLC||DFW|                    DEN||SLC|        Delta||Delta|             DL||DL|        Boeing 737-800||A...|               6120||9360|        380||992|     coach||coach|\n",
      "|64b1fa5b8a6992ec1...|2022-04-16|2022-04-17|            DEN|               DFW|     UA0NA0BC|       PT5H50M|          0|          true|       false|    false|  174.88|    211.6|             9|               1932|             1650196200||16502...|    2022-04-17T05:50:...|           1650206460||16502...|  2022-04-17T10:41:...|                  ATL||DFW|                    DEN||ATL|        Delta||Delta|             DL||DL|        Boeing 737-900||A...|              10260||8520|       1207||725|     coach||coach|\n",
      "|5a1f0dc852e1ccdcb...|2022-04-16|2022-04-17|            DEN|               DFW|     UA0NA0BC|       PT7H12M|          0|          true|       false|    false|  174.88|    211.6|             9|               1372|             1650195000||16502...|    2022-04-17T05:30:...|           1650201120||16502...|  2022-04-17T07:12:...|                  SLC||DFW|                    DEN||SLC|        Delta||Delta|             DL||DL|        Boeing 737-800||A...|               6120||9720|        380||992|     coach||coach|\n",
      "|469167c24e81d956f...|2022-04-16|2022-04-17|            DEN|               DFW|     UA0NA0BC|       PT7H40M|          0|          true|       false|    false|  174.88|    211.6|             9|               1932|             1650200400||16502...|    2022-04-17T07:00:...|           1650210420||16502...|  2022-04-17T11:47:...|                  ATL||DFW|                    DEN||ATL|        Delta||Delta|             DL||DL|        Airbus A321||Airb...|              10020||8460|       1207||725|     coach||coach|\n",
      "+--------------------+----------+----------+---------------+------------------+-------------+--------------+-----------+--------------+------------+---------+--------+---------+--------------+-------------------+---------------------------------+------------------------+-------------------------------+----------------------+--------------------------+----------------------------+--------------------+-------------------+----------------------------+-------------------------+----------------+-----------------+\n",
      "only showing top 20 rows\n",
      "\n"
     ]
    }
   ],
   "source": [
    "\n",
    "result = spark.sql('''\n",
    "    SELECT * FROM TEMP_DATASET where isBasicEconomy = true\n",
    "''')\n",
    "\n",
    "result.show()\n",
    "\n",
    "result.write.csv('./dataset/reduce')\n",
    "\n",
    "\n"
   ]
  },
  {
   "cell_type": "code",
   "execution_count": null,
   "id": "2cb4b39a-44a3-4798-87ab-089967dbe61a",
   "metadata": {},
   "outputs": [],
   "source": [
    "result.coalesce(1).write.mode('overwrite').csv('./dataset/uniqueCsv', header=True)\n"
   ]
  }
 ],
 "metadata": {
  "kernelspec": {
   "display_name": "Python 3 (ipykernel)",
   "language": "python",
   "name": "python3"
  },
  "language_info": {
   "codemirror_mode": {
    "name": "ipython",
    "version": 3
   },
   "file_extension": ".py",
   "mimetype": "text/x-python",
   "name": "python",
   "nbconvert_exporter": "python",
   "pygments_lexer": "ipython3",
   "version": "3.11.6"
  }
 },
 "nbformat": 4,
 "nbformat_minor": 5
}
