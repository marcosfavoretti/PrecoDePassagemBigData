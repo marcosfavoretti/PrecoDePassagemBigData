{
 "cells": [
  {
   "cell_type": "code",
   "execution_count": 1,
   "metadata": {},
   "outputs": [],
   "source": [
    "from pyspark.sql import SparkSession\n"
   ]
  },
  {
   "cell_type": "code",
   "execution_count": 2,
   "metadata": {},
   "outputs": [],
   "source": [
    "spark = SparkSession.builder \\\n",
    "    .appName(\"Ac2 BigData\") \\\n",
    "    .getOrCreate()\n"
   ]
  },
  {
   "cell_type": "code",
   "execution_count": 15,
   "metadata": {},
   "outputs": [
    {
     "name": "stdout",
     "output_type": "stream",
     "text": [
      "dataset loaded\n"
     ]
    }
   ],
   "source": [
    "df = spark.read.csv('./dataset/itinerariesReduz.csv', header=True, inferSchema=True)\n",
    "print('dataset loaded')"
   ]
  },
  {
   "cell_type": "code",
   "execution_count": 12,
   "metadata": {},
   "outputs": [],
   "source": [
    "\n",
    "df.createOrReplaceTempView('TEMP_DATASET')"
   ]
  },
  {
   "cell_type": "code",
   "execution_count": 13,
   "metadata": {},
   "outputs": [
    {
     "name": "stdout",
     "output_type": "stream",
     "text": [
      "+-----------+----------------+----------------+---------------------+------------------------+-------------------+--------------------+-----------------+--------------------+------------------+---------------+--------------+---------------+--------------------+-------------------------+---------------------------------------+------------------------------+-------------------------------------+----------------------------+--------------------------------+----------------------------------+-------------------------+-------------------------+----------------------------------+-------------------------------+----------------------+-----------------------+\n",
      "|legId_nulls|searchDate_nulls|flightDate_nulls|startingAirport_nulls|destinationAirport_nulls|fareBasisCode_nulls|travelDuration_nulls|elapsedDays_nulls|isBasicEconomy_nulls|isRefundable_nulls|isNonStop_nulls|baseFare_nulls|totalFare_nulls|seatsRemaining_nulls|totalTravelDistance_nulls|segmentsDepartureTimeEpochSeconds_nulls|segmentsDepartureTimeRaw_nulls|segmentsArrivalTimeEpochSeconds_nulls|segmentsArrivalTimeRaw_nulls|segmentsArrivalAirportCode_nulls|segmentsDepartureAirportCode_nulls|segmentsAirlineName_nulls|segmentsAirlineCode_nulls|segmentsEquipmentDescription_nulls|segmentsDurationInSeconds_nulls|segmentsDistance_nulls|segmentsCabinCode_nulls|\n",
      "+-----------+----------------+----------------+---------------------+------------------------+-------------------+--------------------+-----------------+--------------------+------------------+---------------+--------------+---------------+--------------------+-------------------------+---------------------------------------+------------------------------+-------------------------------------+----------------------------+--------------------------------+----------------------------------+-------------------------+-------------------------+----------------------------------+-------------------------------+----------------------+-----------------------+\n",
      "|0          |0               |0               |0                    |0                       |0                  |0                   |0                |0                   |0                 |0              |0             |0              |0                   |0                        |0                                      |0                             |0                                    |0                           |0                               |0                                 |0                        |0                        |1                                 |0                              |0                     |0                      |\n",
      "+-----------+----------------+----------------+---------------------+------------------------+-------------------+--------------------+-----------------+--------------------+------------------+---------------+--------------+---------------+--------------------+-------------------------+---------------------------------------+------------------------------+-------------------------------------+----------------------------+--------------------------------+----------------------------------+-------------------------+-------------------------+----------------------------------+-------------------------------+----------------------+-----------------------+\n",
      "\n"
     ]
    }
   ],
   "source": [
    "# check null\n",
    "null_counts_sql = \"SELECT \" + \",\\n       \".join([\n",
    "    f\"SUM(CASE WHEN `{col}` IS NULL THEN 1 ELSE 0 END) AS `{col}_nulls`\"\n",
    "    for col in df.columns\n",
    "]) + \" FROM TEMP_DATASET\"\n",
    "\n",
    "# Executa a query\n",
    "checkNull = spark.sql(null_counts_sql).show(truncate=False)\n"
   ]
  },
  {
   "cell_type": "code",
   "execution_count": 14,
   "metadata": {},
   "outputs": [],
   "source": [
    "# Pegando 10% dos dados aleatoriamente (ajuste o valor até chegar em ~3GB)\n",
    "sample_df = df.sample(withReplacement=False, fraction=0.1, seed=42)\n",
    "\n",
    "# Salvando a versão reduzida\n",
    "sample_df.write.csv(\"./dataset\", header=True)"
   ]
  }
 ],
 "metadata": {
  "kernelspec": {
   "display_name": "Python 3 (ipykernel)",
   "language": "python",
   "name": "python3"
  },
  "language_info": {
   "codemirror_mode": {
    "name": "ipython",
    "version": 3
   },
   "file_extension": ".py",
   "mimetype": "text/x-python",
   "name": "python",
   "nbconvert_exporter": "python",
   "pygments_lexer": "ipython3",
   "version": "3.11.6"
  }
 },
 "nbformat": 4,
 "nbformat_minor": 4
}
